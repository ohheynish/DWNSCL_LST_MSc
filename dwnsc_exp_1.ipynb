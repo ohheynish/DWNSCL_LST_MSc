{
 "cells": [
  {
   "cell_type": "code",
   "execution_count": null,
   "id": "e3f8da3e-0131-4123-928f-ba318bd6d9e0",
   "metadata": {
    "scrolled": true,
    "slideshow": {
     "slide_type": "skip"
    }
   },
   "outputs": [],
   "source": [
    "# import modules\n",
    "\n",
    "import ee\n",
    "from osgeo import gdal\n",
    "import numpy as np\n",
    "import pandas as pd\n",
    "import matplotlib.pyplot as plt\n",
    "from matplotlib.pyplot import figure\n",
    "import datetime\n",
    "from scipy import ndimage\n",
    "import seaborn as sns\n",
    "from mpl_toolkits.mplot3d import axes3d\n",
    "from sklearn.model_selection import train_test_split\n",
    "from sklearn.metrics import mean_squared_error, r2_score\n",
    "from sklearn.ensemble import RandomForestRegressor\n",
    "from sklearn.linear_model import LinearRegression\n",
    "from sklearn.model_selection import RandomizedSearchCV\n",
    "from sklearn.svm import SVR\n",
    "from sklearn.inspection import PartialDependenceDisplay\n",
    "from IPython.display import Image\n",
    "from pprint import pprint\n",
    "from sklearn.preprocessing import QuantileTransformer\n",
    "import plotly.graph_objects as go\n",
    "import plotly.express as px"
   ]
  },
  {
   "cell_type": "code",
   "execution_count": null,
   "id": "fa7e3cdb-a51e-44eb-90d0-9c7e405218b8",
   "metadata": {
    "scrolled": true,
    "slideshow": {
     "slide_type": "skip"
    }
   },
   "outputs": [],
   "source": [
    "# initialize the ee api through credentials\n",
    "# ee.Authenticate()\n",
    "ee.Initialize()"
   ]
  },
  {
   "cell_type": "code",
   "execution_count": null,
   "id": "623ce327-fffe-44cf-8251-3aae8e52fb92",
   "metadata": {
    "scrolled": true,
    "slideshow": {
     "slide_type": "skip"
    }
   },
   "outputs": [],
   "source": [
    "# create a date list with pre-defined time-frame\n",
    "dates_list = []\n",
    "\n",
    "date_start = '2020-01-01'\n",
    "date_end = '2021-01-01'\n",
    "start = datetime.datetime.strptime(date_start, '%Y-%m-%d')\n",
    "end = datetime.datetime.strptime(date_end, '%Y-%m-%d')\n",
    "step = datetime.timedelta(days=1)\n",
    "while start <= end:\n",
    "    dates_list.append(start.strftime('%Y-%m-%d'))\n",
    "    start += step\n",
    "# print(dates_list)"
   ]
  },
  {
   "cell_type": "code",
   "execution_count": null,
   "id": "a0219317-8896-4e2c-8182-85db22f67975",
   "metadata": {
    "scrolled": true,
    "slideshow": {
     "slide_type": "skip"
    }
   },
   "outputs": [],
   "source": [
    "# load roi\n",
    "fc = ee.FeatureCollection(\"FAO/GAUL_SIMPLIFIED_500m/2015/level1\")\n",
    "roi = fc.filter(ee.Filter.eq('ADM1_NAME', 'Zuid-holland'))"
   ]
  },
  {
   "cell_type": "code",
   "execution_count": null,
   "id": "dd8b0364-3b9a-4813-8df2-ab2b27b791ba",
   "metadata": {
    "scrolled": true,
    "slideshow": {
     "slide_type": "skip"
    }
   },
   "outputs": [],
   "source": [
    "# load modis lst product\n",
    "modis_data = ee.ImageCollection('MODIS/061/MYD11A1')"
   ]
  },
  {
   "cell_type": "code",
   "execution_count": null,
   "id": "edede62c-7baf-410b-91f6-ddcd21ccac7f",
   "metadata": {
    "scrolled": true,
    "slideshow": {
     "slide_type": "skip"
    }
   },
   "outputs": [],
   "source": [
    "# get QC values to identify days with good quality data\n",
    "qc_dic = {}\n",
    "\n",
    "for date in dates_list:\n",
    "    image = modis_data.filterDate(date).first().select('QC_Day')\n",
    "    qc = image.reduceRegion(reducer=ee.Reducer.median(),\n",
    "                            geometry=roi.geometry(),\n",
    "                            scale=1000,\n",
    "                            maxPixels=1e9)\n",
    "\n",
    "    for k, v in qc.getInfo().items():\n",
    "        qc_dic[date] = v\n",
    "\n",
    "print(qc_dic)"
   ]
  },
  {
   "cell_type": "code",
   "execution_count": null,
   "id": "db19bbe2-cb0b-4bae-85bc-1a28fedb0ecc",
   "metadata": {
    "scrolled": true,
    "slideshow": {
     "slide_type": "skip"
    }
   },
   "outputs": [],
   "source": [
    "# get dates with 0 QC i.e, good quality images\n",
    "modis_dates = []\n",
    "for k, v in qc_dic.items():\n",
    "    if v == 0:\n",
    "        modis_dates.append(k)\n",
    "print(modis_dates)"
   ]
  },
  {
   "cell_type": "code",
   "execution_count": null,
   "id": "d3655100-fd0c-4d18-8d7e-c5e09f1fceba",
   "metadata": {
    "scrolled": true,
    "slideshow": {
     "slide_type": "skip"
    }
   },
   "outputs": [],
   "source": [
    "# filter through Sentinel-1 collection and get dates of acquisition\n",
    "sentinel = ee.ImageCollection('COPERNICUS/S1_GRD')\n",
    "\n",
    "\n",
    "asc = sentinel.filter(ee.Filter.eq('orbitProperties_pass', 'ASCENDING')).filter(ee.Filter.eq('instrumentMode', 'IW'))\n",
    "platform = asc.filter(ee.Filter.eq('platform_number', 'A'))\n",
    "coll_param = platform.filter(ee.Filter.listContains('transmitterReceiverPolarisation', 'VV')).select('VV')\n",
    "sentinel_roi = coll_param.filterBounds(roi.geometry())\n",
    "\n",
    "sar = sentinel_roi.filterDate('2020-01-01', '2021-01-01')\n",
    "\n",
    "\n",
    "def date(img):\n",
    "    return img.set('date', img.date().format())\n",
    "\n",
    "\n",
    "sar_date = sar.map(date)\n",
    "\n",
    "sar_dates = []\n",
    "for k, v in sar_date.getInfo().items():\n",
    "    for data in sar_date.getInfo()['features']:\n",
    "        for k, v in data.items():\n",
    "            for k, v in data['properties'].items():\n",
    "                if data['properties']['date'] in sar_dates:\n",
    "                    continue\n",
    "                else:\n",
    "                    sar_dates.append(data['properties']['date'])\n",
    "\n",
    "print(sar_dates)"
   ]
  },
  {
   "cell_type": "code",
   "execution_count": null,
   "id": "f1b9f4a1-330d-4d9f-8239-ba36f49bb317",
   "metadata": {
    "scrolled": true,
    "slideshow": {
     "slide_type": "skip"
    }
   },
   "outputs": [],
   "source": [
    "# intersect the modis_dates and sar_dates to get dates for same day acquisition\n",
    "for date_one in sar_dates:\n",
    "    for date_two in modis_dates:\n",
    "        if date_one[0:10] == date_two:\n",
    "            print(date_one, date_two)"
   ]
  },
  {
   "cell_type": "code",
   "execution_count": null,
   "id": "7f85e2a6-e7a5-4eaa-b55a-0dfba81807d7",
   "metadata": {
    "scrolled": true,
    "slideshow": {
     "slide_type": "skip"
    }
   },
   "outputs": [],
   "source": [
    "# transfer images from ee to numpy array (for intersecting dates)\n",
    "lst_dates = ['2020-03-25']\n",
    "lst_arrs = []\n",
    "modis_data = ee.ImageCollection('MODIS/061/MYD11A1')\n",
    "\n",
    "for dates in lst_dates:\n",
    "    lst = modis_data.filterDate(dates).select('LST_Day_1km').first().multiply(0.02).subtract(273.15)\n",
    "\n",
    "    lst_new = lst.reduceResolution(reducer=ee.Reducer.median()).reproject(crs='EPSG:4326', scale=1000)\n",
    "\n",
    "    band_arr = lst_new.sampleRectangle(region=roi.geometry(), defaultValue=-100)\n",
    "\n",
    "    band_arr_lst = band_arr.get('LST_Day_1km')\n",
    "    np_arr_lst = np.array(band_arr_lst.getInfo())\n",
    "    np_arr_lst[np_arr_lst == -100] = np.nan\n",
    "    lst_arrs.append(np_arr_lst)\n",
    "    print(np_arr_lst.shape)"
   ]
  },
  {
   "cell_type": "code",
   "execution_count": null,
   "id": "0e08b5d1-1675-4e01-a2cc-c7ea3f93cd13",
   "metadata": {
    "scrolled": true,
    "slideshow": {
     "slide_type": "skip"
    }
   },
   "outputs": [],
   "source": [
    "# transfer images from ee to numpy array (for intersecting dates)\n",
    "sentinel_dates = ['2020-03-25']\n",
    "sar_arrs = []\n",
    "\n",
    "for dates in sentinel_dates:\n",
    "    sentinel = ee.ImageCollection('COPERNICUS/S1_GRD')\n",
    "    asc = sentinel.filter(ee.Filter.eq('orbitProperties_pass', 'ASCENDING')).filter(ee.Filter.eq('instrumentMode', 'IW'))\n",
    "    platform = asc.filter(ee.Filter.eq('platform_number', 'A'))\n",
    "    coll_param = platform.filter(ee.Filter.listContains('transmitterReceiverPolarisation', 'VV')).filter(ee.Filter.listContains('transmitterReceiverPolarisation', 'VH')).select(['VV', 'VH'])\n",
    "\n",
    "    sentinel_roi = coll_param.filterBounds(roi.geometry())\n",
    "\n",
    "    bcoff = sentinel_roi.filterDate('2020-03-25', '2021-01-01').first()\n",
    "\n",
    "    bcoff_new = bcoff.reduceResolution(reducer=ee.Reducer.median(), maxPixels=7000).reproject(crs='EPSG:4326', scale=1000)\n",
    "\n",
    "    sar_arr = bcoff_new.sampleRectangle(region=roi.geometry(), defaultValue=-9999)\n",
    "\n",
    "    sar_arr_VV = sar_arr.get('VV')\n",
    "    sar_arr_VH = sar_arr.get('VH')\n",
    "\n",
    "    npsar_arr_VV = np.array(sar_arr_VV.getInfo())\n",
    "    sar_arrs.append(npsar_arr_VV)\n",
    "    npsar_arr_VH = np.array(sar_arr_VH.getInfo())\n",
    "    sar_arrs.append(npsar_arr_VH)\n",
    "\n",
    "    print(npsar_arr_VV.shape)\n",
    "    print(npsar_arr_VH.shape)"
   ]
  },
  {
   "cell_type": "code",
   "execution_count": null,
   "id": "bbad5d3c-2d8e-4a78-b3a1-0dad72fc0d9b",
   "metadata": {
    "scrolled": true,
    "slideshow": {
     "slide_type": "slide"
    }
   },
   "outputs": [],
   "source": [
    "# prepare arrays for plotting\n",
    "\n",
    "lst_arr = lst_arrs[0]\n",
    "print('The shape of the temperature array is:', lst_arr.shape)\n",
    "print()\n",
    "\n",
    "vv_arr = sar_arrs[0]\n",
    "print('The shape of the vv_backscatter array is:', vv_arr.shape)\n",
    "print()\n",
    "\n",
    "vh_arr = sar_arrs[1]\n",
    "print('The shape of the vh_backscatter array is:', vh_arr.shape)\n",
    "print()"
   ]
  },
  {
   "cell_type": "code",
   "execution_count": null,
   "id": "73668c98",
   "metadata": {
    "scrolled": true,
    "slideshow": {
     "slide_type": "subslide"
    }
   },
   "outputs": [],
   "source": [
    "figure(figsize=(14, 12), dpi=300)\n",
    "plt.imshow(lst_arr, cmap='RdBu_r')\n",
    "clb = plt.colorbar(orientation='horizontal')\n",
    "clb.ax.set_title('\\N{DEGREE SIGN}C', fontsize=12)\n",
    "# plt.title('LST image over Zuid-Holland (1000 m)', y=-0.1)\n",
    "plt.savefig('downscale_outputs/LST_1000.png', dpi=300, bbox_inches='tight')\n",
    "plt.show()"
   ]
  },
  {
   "cell_type": "code",
   "execution_count": null,
   "id": "6ede95aa",
   "metadata": {
    "scrolled": true,
    "slideshow": {
     "slide_type": "subslide"
    }
   },
   "outputs": [],
   "source": [
    "figure(figsize=(14, 12), dpi=300)\n",
    "plt.imshow(vv_arr, cmap='Greys_r')\n",
    "clb = plt.colorbar(orientation='horizontal')\n",
    "clb.ax.set_title('dB', fontsize=12)\n",
    "# plt.title('VV image over Zuid-Holland (1000 m)', y=-0.1)\n",
    "plt.savefig('downscale_outputs/VV_1000.png', dpi=300, bbox_inches='tight')\n",
    "plt.show()"
   ]
  },
  {
   "cell_type": "code",
   "execution_count": null,
   "id": "e42db163",
   "metadata": {
    "scrolled": true,
    "slideshow": {
     "slide_type": "subslide"
    }
   },
   "outputs": [],
   "source": [
    "figure(figsize=(14, 12), dpi=300)\n",
    "plt.imshow(vh_arr, cmap='Greys_r')\n",
    "clb = plt.colorbar(orientation='horizontal')\n",
    "clb.ax.set_title('dB', fontsize=12)\n",
    "# plt.title('VH image over Zuid-Holland (1000 m)', y=-0.1)\n",
    "plt.savefig('downscale_outputs/VH_1000.png', dpi=300, bbox_inches='tight')\n",
    "plt.show()"
   ]
  },
  {
   "cell_type": "code",
   "execution_count": null,
   "id": "d8224b4f",
   "metadata": {
    "scrolled": true,
    "slideshow": {
     "slide_type": "subslide"
    }
   },
   "outputs": [],
   "source": [
    "fig, ax = plt.subplots(1, 3, figsize=(20, 20))\n",
    "img_1 = ax[0].imshow(lst_arr, cmap='RdBu_r')\n",
    "fig.colorbar(img_1, ax=ax[0], orientation='horizontal')\n",
    "ax[0].set_title('LST image over Zuid-Holland (1000 m)', y=-0.5)\n",
    "img_2 = ax[1].imshow(vv_arr, cmap='Greys_r')\n",
    "fig.colorbar(img_2, ax=ax[1], orientation='horizontal')\n",
    "ax[1].set_title('VV image over Zuid-Holland (1000 m)', y=-0.5)\n",
    "img_3 = ax[2].imshow(vh_arr, cmap='Greys_r')\n",
    "fig.colorbar(img_3, ax=ax[2], orientation='horizontal')\n",
    "ax[2].set_title('VH image over Zuid-Holland (1000 m)', y=-0.5)\n",
    "fig.show()"
   ]
  },
  {
   "cell_type": "code",
   "execution_count": null,
   "id": "5bbc253b-36cf-4884-a133-12916acfdf89",
   "metadata": {
    "scrolled": true,
    "slideshow": {
     "slide_type": "skip"
    }
   },
   "outputs": [],
   "source": [
    "# flatten the array to save it as a pandas dataframe\n",
    "lst_flat = lst_arr.flatten()\n",
    "vv_flat = vv_arr.flatten()\n",
    "vh_flat = vh_arr.flatten()"
   ]
  },
  {
   "cell_type": "code",
   "execution_count": null,
   "id": "4a6d044f-9dea-4fdd-9934-34ed6c37d0ab",
   "metadata": {
    "scrolled": true,
    "slideshow": {
     "slide_type": "slide"
    }
   },
   "outputs": [],
   "source": [
    "data_df = pd.DataFrame(lst_flat.T, columns=['lst'])\n",
    "data_df['vv'] = vv_flat.T\n",
    "data_df['vh'] = vh_flat.T\n",
    "\n",
    "data_df"
   ]
  },
  {
   "cell_type": "code",
   "execution_count": null,
   "id": "cb425e0f-993b-4685-b609-534e5b05365c",
   "metadata": {
    "scrolled": true,
    "slideshow": {
     "slide_type": "skip"
    }
   },
   "outputs": [],
   "source": [
    "# drop entries (rows) containing NaN data\n",
    "\n",
    "filt_df = data_df.dropna()\n",
    "filt_df"
   ]
  },
  {
   "cell_type": "code",
   "execution_count": null,
   "id": "e7a1af55-5409-4f0d-bdbe-9f8d59c9ee6c",
   "metadata": {
    "scrolled": true,
    "slideshow": {
     "slide_type": "slide"
    }
   },
   "outputs": [],
   "source": [
    "filt_df.lst.hist(bins=100, legend=True)\n",
    "filt_df.vv.hist(bins=100, legend=True)\n",
    "filt_df.vh.hist(bins=100, legend=True)"
   ]
  },
  {
   "cell_type": "code",
   "execution_count": null,
   "id": "fe9f9ecb-5e47-4905-aa9c-579fb1c41efd",
   "metadata": {
    "scrolled": true,
    "slideshow": {
     "slide_type": "slide"
    }
   },
   "outputs": [],
   "source": [
    "# feature scaling\n",
    "\n",
    "scaler = QuantileTransformer()\n",
    "\n",
    "df2 = pd.DataFrame(scaler.fit_transform(data_df),\n",
    "                   columns=['lst', 'vv', 'vh'])\n",
    "\n",
    "df2['lst'] = data_df['lst']\n",
    "df2"
   ]
  },
  {
   "cell_type": "code",
   "execution_count": null,
   "id": "9413480b-dd62-4f55-83c2-364075f435ce",
   "metadata": {
    "scrolled": true,
    "slideshow": {
     "slide_type": "skip"
    }
   },
   "outputs": [],
   "source": [
    "# drop entries (rows) containing NaN data\n",
    "\n",
    "filtn_df = df2.dropna()\n",
    "filtn_df"
   ]
  },
  {
   "cell_type": "code",
   "execution_count": null,
   "id": "b6f017aa-222b-4a55-b54b-505b76a9a6fb",
   "metadata": {
    "scrolled": true,
    "slideshow": {
     "slide_type": "slide"
    }
   },
   "outputs": [],
   "source": [
    "print(filtn_df.lst.describe())\n",
    "print()\n",
    "print(filtn_df.vv.describe())\n",
    "print()\n",
    "print(filtn_df.vh.describe())"
   ]
  },
  {
   "cell_type": "code",
   "execution_count": null,
   "id": "65d299cb-89e8-480e-9cb3-1b8498234355",
   "metadata": {
    "scrolled": true,
    "slideshow": {
     "slide_type": "slide"
    }
   },
   "outputs": [],
   "source": [
    "fig, ax = plt.subplots(1, 2, figsize=(14, 10))\n",
    "plt_1 = sns.regplot(data=filt_df, x='vv', y='lst', scatter_kws={'color': 'black'}, line_kws={'color': 'red'}, ci=None, ax=ax[0])\n",
    "plt_1.axes.set_title('Regression Plot between VV and LST', fontsize=20)\n",
    "plt_1.set_xlabel('VV', fontsize=15)\n",
    "plt_1.set_ylabel('LST', fontsize=15)\n",
    "plt_2 = sns.regplot(data=filt_df, x='vh', y='lst', scatter_kws={\"color\": \"black\"}, line_kws={\"color\": \"red\"}, ci=None, ax=ax[1])\n",
    "plt_2.axes.set_title('Regression Plot between VH and LST', fontsize=20)\n",
    "plt_2.set_xlabel('VH', fontsize=15)\n",
    "plt_2.set_ylabel('LST', fontsize=15)\n",
    "fig.show()\n",
    "print('The correlation coefficient between VV and LST is:', filt_df['vv'].corr(filt_df['lst']))\n",
    "print('The correlation coefficient between VH and LST is:', filt_df['vh'].corr(filt_df['lst']))"
   ]
  },
  {
   "cell_type": "code",
   "execution_count": null,
   "id": "41945ae2-a283-4253-b10e-59ac56f15755",
   "metadata": {
    "scrolled": true,
    "slideshow": {
     "slide_type": "slide"
    }
   },
   "outputs": [],
   "source": [
    "sns.lmplot(data=filt_df, x='vv', y='lst', scatter_kws={\"color\": \"black\"}, line_kws={\"color\": \"red\"}, lowess=True)\n",
    "# plt.title('LOWESS plot between VV and LST')\n",
    "plt.xlabel('VV', fontsize=10)\n",
    "plt.ylabel('LST', fontsize=10)\n",
    "plt.savefig('downscale_outputs/LowessVV.png', dpi=300)\n",
    "plt.show()\n",
    "sns.lmplot(data=filt_df, x='vh', y='lst', scatter_kws={\"color\": \"black\"}, line_kws={\"color\": \"red\"}, lowess=True)\n",
    "# plt.title('LOWESS plot between VH and LST')\n",
    "plt.xlabel('VH', fontsize=10)\n",
    "plt.ylabel('LST', fontsize=10)\n",
    "plt.savefig('downscale_outputs/LowessVH.png', dpi=300)\n",
    "plt.show()"
   ]
  },
  {
   "cell_type": "code",
   "execution_count": null,
   "id": "c7583f02-ecaf-4190-8748-15b0b324d4fa",
   "metadata": {
    "scrolled": true,
    "slideshow": {
     "slide_type": "slide"
    }
   },
   "outputs": [],
   "source": [
    "fig = plt.figure(figsize=(10, 8), dpi=300)\n",
    "ax = plt.axes(projection='3d')\n",
    "x = filt_df['vv']\n",
    "y = filt_df['vh']\n",
    "z = filt_df['lst']\n",
    "ax.set_xlabel('VV', fontsize=8)\n",
    "ax.set_ylabel('VH', fontsize=8)\n",
    "ax.set_zlabel('LST', fontsize=8)\n",
    "ax.set_title('3D Scatter Plot between VV, VH and LST')\n",
    "ax.scatter3D(x, y, z, s=1, c='black')\n",
    "plt.show()"
   ]
  },
  {
   "cell_type": "code",
   "execution_count": null,
   "id": "3b52d806-4ccf-48b1-aff9-b080a6575581",
   "metadata": {
    "scrolled": true,
    "slideshow": {
     "slide_type": "slide"
    }
   },
   "outputs": [],
   "source": [
    "# seperate dataframe into predictors and target for model-building\n",
    "\n",
    "predictors = filtn_df.drop(['lst'], axis=1)\n",
    "target = filtn_df['lst']\n",
    "\n",
    "print(predictors)\n",
    "print()\n",
    "print(target)"
   ]
  },
  {
   "cell_type": "code",
   "execution_count": null,
   "id": "dd96bf45-f2c2-44fa-b15e-4dbf495f07cb",
   "metadata": {
    "scrolled": true,
    "slideshow": {
     "slide_type": "skip"
    }
   },
   "outputs": [],
   "source": [
    "x_train, x_test, y_train, y_test = train_test_split(predictors, target,\n",
    "                                                    test_size=0.2,\n",
    "                                                    random_state=11)"
   ]
  },
  {
   "cell_type": "code",
   "execution_count": null,
   "id": "f1fb1d52-5633-4c50-85ac-86ef1511f52e",
   "metadata": {
    "scrolled": true,
    "slideshow": {
     "slide_type": "skip"
    }
   },
   "outputs": [],
   "source": [
    "# check what pixels are selected for training, testing and validation\n",
    "\n",
    "train = y_train.isin(data_df['lst']).astype('int')\n",
    "test = y_test.isin(data_df['lst']).astype('int')\n",
    "\n",
    "data_df['test'] = test\n",
    "data_df['train'] = train\n",
    "\n",
    "train_px = data_df.train.values\n",
    "train_px = train_px.reshape(-1, 131)\n",
    "\n",
    "test_px = data_df.test.values\n",
    "test_px = test_px.reshape(-1, 131)\n",
    "\n",
    "figure(figsize=(20, 20), dpi=300)\n",
    "\n",
    "plt.subplot(1, 3, 1)\n",
    "plt.imshow(train_px, cmap='Greys_r')\n",
    "plt.title('Training Set')\n",
    "\n",
    "plt.subplot(1, 3, 2)\n",
    "plt.imshow(test_px, cmap='Greys_r')\n",
    "plt.title('Testing Set')\n",
    "\n",
    "plt.show()"
   ]
  },
  {
   "cell_type": "code",
   "execution_count": null,
   "id": "8381107a-5b25-4856-998c-15a8dc735e59",
   "metadata": {
    "scrolled": true,
    "slideshow": {
     "slide_type": "skip"
    }
   },
   "outputs": [],
   "source": [
    "# make a grid with values for hyperparameters\n",
    "\n",
    "n_estimators = [int(x) for x in np.linspace(start=50, stop=2000, num=20)]\n",
    "max_depth = [int(x) for x in np.linspace(1, 50, num=25)]\n",
    "max_depth.append(None)\n",
    "min_samples_split = [2, 5, 10]\n",
    "min_samples_leaf = [1, 2, 4]\n",
    "\n",
    "# Create the random grid\n",
    "random_grid = {'n_estimators': n_estimators,\n",
    "               'max_depth': max_depth,\n",
    "               'min_samples_split': min_samples_split,\n",
    "               'min_samples_leaf': min_samples_leaf}\n",
    "print(random_grid)"
   ]
  },
  {
   "cell_type": "code",
   "execution_count": null,
   "id": "6ab7dd73-4059-45a5-b0df-63dbc37a457c",
   "metadata": {
    "scrolled": true,
    "slideshow": {
     "slide_type": "skip"
    }
   },
   "outputs": [],
   "source": [
    "forest = RandomForestRegressor()\n",
    "\n",
    "rf_random = RandomizedSearchCV(estimator=forest,\n",
    "                               param_distributions=random_grid,\n",
    "                               n_iter=100,\n",
    "                               cv=5, scoring='neg_root_mean_squared_error',\n",
    "                               return_train_score=True,\n",
    "                               random_state=21,\n",
    "                               n_jobs=-1)\n",
    "\n",
    "rf_random.fit(x_train, y_train)"
   ]
  },
  {
   "cell_type": "code",
   "execution_count": null,
   "id": "9f3a16ca-26d3-462d-b32e-f864b0940fdd",
   "metadata": {
    "scrolled": true,
    "slideshow": {
     "slide_type": "slide"
    }
   },
   "outputs": [],
   "source": [
    "print(rf_random.best_params_)"
   ]
  },
  {
   "cell_type": "code",
   "execution_count": null,
   "id": "87b95991-32f7-4cbf-87a3-7f68e118d11f",
   "metadata": {
    "scrolled": true,
    "slideshow": {
     "slide_type": "slide"
    }
   },
   "outputs": [],
   "source": [
    "base_forest = RandomForestRegressor(random_state=21)\n",
    "base_forest.fit(x_train, y_train)\n",
    "base_rmse = np.sqrt(mean_squared_error(base_forest.predict(x_test), y_test))\n",
    "print(base_rmse)\n",
    "\n",
    "tuned_forest = rf_random.best_estimator_\n",
    "tuned_rmse = np.sqrt(mean_squared_error(tuned_forest.predict(x_test), y_test))\n",
    "print(tuned_rmse)"
   ]
  },
  {
   "cell_type": "code",
   "execution_count": null,
   "id": "6f3855da-e919-4a01-a872-fce7adc69427",
   "metadata": {
    "scrolled": true,
    "slideshow": {
     "slide_type": "skip"
    }
   },
   "outputs": [],
   "source": [
    "svr = SVR(kernel='linear')\n",
    "svr.fit(x_train, y_train)\n",
    "\n",
    "y_trainpred = svr.predict(x_train)\n",
    "rmse_train_svr = np.sqrt(mean_squared_error(y_trainpred, y_train))\n",
    "print(rmse_train_svr)\n",
    "\n",
    "y_pred = svr.predict(x_test)\n",
    "rmse_test_svr = np.sqrt(mean_squared_error(y_pred, y_test))\n",
    "print(rmse_test_svr)"
   ]
  },
  {
   "cell_type": "code",
   "execution_count": null,
   "id": "ce90b5bc-38da-4531-a348-75bac3fed1a1",
   "metadata": {
    "scrolled": true,
    "slideshow": {
     "slide_type": "skip"
    }
   },
   "outputs": [],
   "source": [
    "lst_pred = tuned_forest.predict(predictors)\n",
    "full_rmse = np.sqrt(mean_squared_error(lst_pred, target))\n",
    "print(full_rmse)"
   ]
  },
  {
   "cell_type": "code",
   "execution_count": null,
   "id": "fccb1419-00f8-415e-9314-14631c69b70c",
   "metadata": {
    "scrolled": true,
    "slideshow": {
     "slide_type": "slide"
    }
   },
   "outputs": [],
   "source": [
    "figure(figsize=(8, 8))\n",
    "\n",
    "feature_imp = pd.Series(tuned_forest.feature_importances_,\n",
    "                        index=['vv', 'vh']).sort_values(ascending=False)\n",
    "\n",
    "sns.barplot(x=feature_imp, y=feature_imp.index)\n",
    "plt.xlabel('Feature Importance Score')\n",
    "plt.ylabel('Features')\n",
    "plt.title(\"Visualizing Important Features\", pad=15, size=14)"
   ]
  },
  {
   "cell_type": "code",
   "execution_count": null,
   "id": "8050c064-4fa7-424c-8ac0-95a415c73b3e",
   "metadata": {
    "scrolled": true,
    "slideshow": {
     "slide_type": "slide"
    }
   },
   "outputs": [],
   "source": [
    "figure(figsize=(20, 20), dpi=300)\n",
    "common_params = { \"subsample\": 50, \"n_jobs\": 2, \"grid_resolution\": 40, \"centered\": True, \"random_state\": 0}\n",
    "display = PartialDependenceDisplay.from_estimator(tuned_forest, predictors, features=['vv', 'vh'], kind=\"both\", **common_params)\n",
    "display.figure_.suptitle(\"Partial dependence\")\n",
    "display.figure_.subplots_adjust(hspace=0.3)"
   ]
  },
  {
   "cell_type": "code",
   "execution_count": null,
   "id": "41a633d1-6bf1-4bcb-96cc-a4128f3e0146",
   "metadata": {
    "scrolled": true,
    "slideshow": {
     "slide_type": "skip"
    }
   },
   "outputs": [],
   "source": [
    "gfilt_df = filtn_df.copy()\n",
    "gfilt_df['lst_pred'] = lst_pred\n",
    "gfilt_df"
   ]
  },
  {
   "cell_type": "code",
   "execution_count": null,
   "id": "ee831969-1325-4a0a-aebc-ba394d3d7bcc",
   "metadata": {
    "scrolled": true,
    "slideshow": {
     "slide_type": "skip"
    }
   },
   "outputs": [],
   "source": [
    "print(gfilt_df['lst_pred'].describe())\n",
    "print(gfilt_df['lst'].describe())"
   ]
  },
  {
   "cell_type": "code",
   "execution_count": null,
   "id": "2617cbae-a3dc-438b-9170-3d93a3bd15bc",
   "metadata": {
    "scrolled": true,
    "slideshow": {
     "slide_type": "slide"
    }
   },
   "outputs": [],
   "source": [
    "gfilt_df.lst.hist(bins=150, legend=True)\n",
    "gfilt_df.lst_pred.hist(bins=150, legend=True)"
   ]
  },
  {
   "cell_type": "code",
   "execution_count": null,
   "id": "c988324a-0f55-4572-8f79-09b3b0fed485",
   "metadata": {
    "scrolled": true,
    "slideshow": {
     "slide_type": "skip"
    }
   },
   "outputs": [],
   "source": [
    "print('The correlation between Observed LST and Predicted LST at 1000m is:',  gfilt_df['lst'].corr(gfilt_df['lst_pred']))\n",
    "plt_3 = sns.regplot(data=gfilt_df, x='lst', y='lst_pred', scatter_kws={\"color\": \"black\"}, line_kws={\"color\": \"red\"}, ci=None)\n",
    "plt_3.axes.set_title('Regression Plot between Observed LST and Predicted LST', fontsize=20)\n",
    "plt_3.set_xlabel('Observed LST', fontsize=15)\n",
    "plt_3.set_ylabel('Predicted LST', fontsize=15)\n",
    "plt_3.tick_params(labelsize=5)"
   ]
  },
  {
   "cell_type": "code",
   "execution_count": null,
   "id": "0ceffc4a-d6bd-4de9-a676-43f4ef6454b3",
   "metadata": {
    "scrolled": true,
    "slideshow": {
     "slide_type": "skip"
    }
   },
   "outputs": [],
   "source": [
    "gfilt_df = gfilt_df['lst_pred']\n",
    "finaldata_df = data_df.join(gfilt_df)\n",
    "finaldata_df"
   ]
  },
  {
   "cell_type": "code",
   "execution_count": null,
   "id": "cb046757",
   "metadata": {
    "scrolled": true,
    "slideshow": {
     "slide_type": "skip"
    }
   },
   "outputs": [],
   "source": [
    "pred_arr = finaldata_df.lst_pred.values\n",
    "pred_arr = pred_arr.reshape(-1, 131)"
   ]
  },
  {
   "cell_type": "code",
   "execution_count": null,
   "id": "c5ba81c3-7de0-4569-a4b6-6f24c41a8c42",
   "metadata": {
    "scrolled": true,
    "slideshow": {
     "slide_type": "skip"
    }
   },
   "outputs": [],
   "source": [
    "figure(figsize=(14, 12), dpi=300)\n",
    "plt.imshow(pred_arr, cmap='RdBu_r')\n",
    "plt.title('Predicted LST at 1000 m')\n",
    "plt.colorbar(orientation='horizontal')"
   ]
  },
  {
   "cell_type": "code",
   "execution_count": null,
   "id": "7c51f21a-fabc-4057-9662-b834dab5327b",
   "metadata": {
    "scrolled": true,
    "slideshow": {
     "slide_type": "subslide"
    }
   },
   "outputs": [],
   "source": [
    "figure(figsize=(14, 12), dpi=300)\n",
    "plt.subplot(1, 2, 1)\n",
    "plt.title('Predicted LST map')\n",
    "plt.imshow(pred_arr[:70, :], cmap='RdBu_r')\n",
    "plt.colorbar(orientation='horizontal')\n",
    "plt.subplot(1, 2, 2)\n",
    "plt.title('Observed LST map')\n",
    "plt.imshow(lst_arr[:70, :], cmap='RdBu_r')\n",
    "plt.colorbar(orientation='horizontal')\n",
    "plt.show()"
   ]
  },
  {
   "cell_type": "code",
   "execution_count": null,
   "id": "86287bbd",
   "metadata": {
    "scrolled": true,
    "slideshow": {
     "slide_type": "skip"
    }
   },
   "outputs": [],
   "source": [
    "error_arr = np.sqrt(np.square(pred_arr - lst_arr))"
   ]
  },
  {
   "cell_type": "code",
   "execution_count": null,
   "id": "eccd77ee-6d7d-433d-860a-092bb11cf8c7",
   "metadata": {
    "scrolled": true,
    "slideshow": {
     "slide_type": "slide"
    }
   },
   "outputs": [],
   "source": [
    "figure(figsize=(14, 12), dpi=300)\n",
    "plt.title('Error at each pixel')\n",
    "plt.imshow(error_arr, cmap='RdYlGn_r')\n",
    "plt.colorbar(orientation='horizontal')\n",
    "plt.show()"
   ]
  },
  {
   "cell_type": "markdown",
   "id": "eac187d8-815c-423d-bde6-a2b2a12630ba",
   "metadata": {
    "slideshow": {
     "slide_type": "slide"
    }
   },
   "source": [
    "## Downscaling 30 m (Results):"
   ]
  },
  {
   "cell_type": "code",
   "execution_count": null,
   "id": "79023072-b9da-4f18-a99c-5811836ae9c2",
   "metadata": {
    "scrolled": true,
    "slideshow": {
     "slide_type": "skip"
    }
   },
   "outputs": [],
   "source": [
    "# collect 30 m product\n",
    "\n",
    "landsat = ee.ImageCollection(\"LANDSAT/LC08/C02/T1_L2\")\n",
    "\n",
    "tile = landsat.filter(ee.Filter.eq('WRS_PATH', '198')).filter(ee.Filter.eq('WRS_ROW', '24'))\n",
    "landsat_roi = landsat.filterBounds(roi.geometry())\n",
    "landsatST = landsat_roi.select('ST_B10')\n",
    "\n",
    "landST = landsatST.filterDate('2020-03-25', '2020-03-26').first()\n",
    "\n",
    "task_config_l8 = {\n",
    "    'maxPixels': 1e13,\n",
    "    'scale': 30,\n",
    "    'crs': 'EPSG:4326',\n",
    "    'region': roi.geometry()\n",
    "    }\n",
    "\n",
    "landsat_task = ee.batch.Export.image(landST, 'landsatval_2503', task_config_l8)\n",
    "\n",
    "landsat_task.start()\n",
    "\n",
    "print('done')"
   ]
  },
  {
   "cell_type": "code",
   "execution_count": null,
   "id": "c96eb33b-3af3-4933-94bb-b10b52752583",
   "metadata": {
    "scrolled": true,
    "slideshow": {
     "slide_type": "skip"
    }
   },
   "outputs": [],
   "source": [
    "sentinel = ee.ImageCollection('COPERNICUS/S1_GRD')\n",
    "asc = sentinel.filter(ee.Filter.eq('orbitProperties_pass', 'ASCENDING')).filter(ee.Filter.eq('instrumentMode', 'IW'))\n",
    "platform = asc.filter(ee.Filter.eq('platform_number', 'A'))\n",
    "coll_param = platform.filter(ee.Filter.listContains('transmitterReceiverPolarisation', 'VV')).filter(ee.Filter.listContains('transmitterReceiverPolarisation', 'VH')).select(['VV', 'VH'])\n",
    "\n",
    "sentinel_roi = coll_param.filterBounds(roi.geometry())\n",
    "\n",
    "bcoff2 = sentinel_roi.filterDate('2020-03-25', '2021-01-01').first()\n",
    "\n",
    "task_config_s1 = {\n",
    "    'maxPixels': 1e13,\n",
    "    'scale': 30,\n",
    "    'crs': 'EPSG:4326',\n",
    "    'region': roi.geometry()\n",
    "    }\n",
    "\n",
    "sarfull_task = ee.batch.Export.image(bcoff2, 'sarval_2503', task_config_s1)\n",
    "\n",
    "sarfull_task.start()\n",
    "\n",
    "print('done')"
   ]
  },
  {
   "cell_type": "code",
   "execution_count": null,
   "id": "06049107-a5b8-4e6e-b10d-dfe5d66add30",
   "metadata": {
    "scrolled": true,
    "slideshow": {
     "slide_type": "skip"
    }
   },
   "outputs": [],
   "source": [
    "lst_full = gdal.Open('downscale_data/radar_assignment/landsatval_2503.tif')\n",
    "lst_band = lst_full.GetRasterBand(1)\n",
    "lst_full_arr = lst_band.ReadAsArray()\n",
    "lst_full_arr = lst_full_arr*0.00341802+149.0-273.15\n",
    "lst_full_farr = ndimage.median_filter(lst_full_arr, 3)\n",
    "print(lst_full_farr.shape)"
   ]
  },
  {
   "cell_type": "code",
   "execution_count": null,
   "id": "5011e60d-76cb-41de-823b-344faa903238",
   "metadata": {
    "scrolled": true,
    "slideshow": {
     "slide_type": "slide"
    }
   },
   "outputs": [],
   "source": [
    "# plot 30 m LST product\n",
    "from matplotlib import colors\n",
    "\n",
    "# cmap = colors.ListedColormap(['blue', 'lightblue', 'white', 'tomato', 'red', 'darkred'])\n",
    "# bounds = [0, 10, 12, 15, 20, 30, 35]\n",
    "# norm = colors.BoundaryNorm(bounds, cmap.N)\n",
    "\n",
    "figure(figsize=(14, 12), dpi=300)\n",
    "plt.imshow(lst_full_farr, cmap='RdBu_r')\n",
    "# plt.title('LST map 30 m')\n",
    "clb = plt.colorbar(orientation='horizontal')\n",
    "clb.ax.set_title('\\N{DEGREE SIGN}C', fontsize=12)\n",
    "plt.savefig('downscale_outputs/LST_30.png', dpi=300, bbox_inches='tight')\n",
    "plt.show()"
   ]
  },
  {
   "cell_type": "code",
   "execution_count": null,
   "id": "9611de4f-2c29-4b40-8179-e82af380a89a",
   "metadata": {
    "scrolled": true,
    "slideshow": {
     "slide_type": "skip"
    }
   },
   "outputs": [],
   "source": [
    "sar_full = gdal.Open('downscale_data/radar_assignment/sarval_2503.tif')\n",
    "vv_band = sar_full.GetRasterBand(1)\n",
    "vh_band = sar_full.GetRasterBand(2)\n",
    "vv_full_arr = vv_band.ReadAsArray()\n",
    "vh_full_arr = vh_band.ReadAsArray()\n",
    "vv_full_farr = ndimage.median_filter(vv_full_arr, 3)\n",
    "vh_full_farr = ndimage.median_filter(vh_full_arr, 3)\n",
    "print(vv_full_farr.shape)\n",
    "print(vh_full_farr.shape)"
   ]
  },
  {
   "cell_type": "code",
   "execution_count": null,
   "id": "d26982c8-cabb-47e5-aaf8-7aede95da949",
   "metadata": {
    "scrolled": true,
    "slideshow": {
     "slide_type": "slide"
    }
   },
   "outputs": [],
   "source": [
    "# plot vv and vh images\n",
    "\n",
    "figure(figsize=(14, 12), dpi=300)\n",
    "\n",
    "# plt.title('VV image 30 m')\n",
    "plt.imshow(vv_full_farr, cmap='Greys_r')\n",
    "clb = plt.colorbar(orientation='horizontal')\n",
    "clb.ax.set_title('dB', fontsize=12)\n",
    "plt.savefig('downscale_outputs/VV_30.png', dpi=300, bbox_inches='tight')\n",
    "plt.show()"
   ]
  },
  {
   "cell_type": "code",
   "execution_count": null,
   "id": "b711e44a-8058-4fba-831c-3cbc108c7a8f",
   "metadata": {},
   "outputs": [],
   "source": [
    "figure(figsize=(14, 12), dpi=300)\n",
    "# plt.title('VH image 30 m')\n",
    "plt.imshow(vh_full_farr, cmap='Greys_r')\n",
    "clb = plt.colorbar(orientation='horizontal')\n",
    "clb.ax.set_title('dB', fontsize=12)\n",
    "plt.savefig('downscale_outputs/VH_30.png', dpi=300, bbox_inches='tight')\n",
    "plt.show()"
   ]
  },
  {
   "cell_type": "code",
   "execution_count": null,
   "id": "b4f9d8c3-fbca-4868-b7f0-c09a91eef059",
   "metadata": {
    "scrolled": true,
    "slideshow": {
     "slide_type": "skip"
    }
   },
   "outputs": [],
   "source": [
    "lstfull_flat = lst_full_farr.flatten()\n",
    "vvfull_flat = vv_full_farr.flatten()\n",
    "vhfull_flat = vh_full_farr.flatten()\n",
    "\n",
    "fulldata_df = pd.DataFrame(lstfull_flat.T, columns=['lst'])\n",
    "fulldata_df['vv'] = vvfull_flat.T\n",
    "fulldata_df['vh'] = vhfull_flat.T\n",
    "\n",
    "fulldata_df"
   ]
  },
  {
   "cell_type": "code",
   "execution_count": null,
   "id": "5da3d625-4cde-4de7-afd7-50e4a247acc7",
   "metadata": {
    "scrolled": true,
    "slideshow": {
     "slide_type": "skip"
    }
   },
   "outputs": [],
   "source": [
    "# histograms\n",
    "\n",
    "fulldata_df.lst.hist(bins=150, legend=True)\n",
    "fulldata_df.vv.hist(bins=150, legend=True)\n",
    "fulldata_df.vh.hist(bins=150, legend=True)"
   ]
  },
  {
   "cell_type": "code",
   "execution_count": null,
   "id": "747665bc-0117-4790-a1ab-2e1bed98678c",
   "metadata": {
    "scrolled": true,
    "slideshow": {
     "slide_type": "skip"
    }
   },
   "outputs": [],
   "source": [
    "scaler = QuantileTransformer()\n",
    "\n",
    "scaled_df = pd.DataFrame(scaler.fit_transform(fulldata_df),\n",
    "                   columns=['lst', 'vv', 'vh'])\n",
    "\n",
    "scaled_df['lst'] = fulldata_df['lst']\n",
    "scaled_df"
   ]
  },
  {
   "cell_type": "code",
   "execution_count": null,
   "id": "424fb964-6a7a-4551-b556-d2a0c92d115a",
   "metadata": {
    "scrolled": true,
    "slideshow": {
     "slide_type": "slide"
    }
   },
   "outputs": [],
   "source": [
    "fullsar = scaled_df.drop(['lst'], axis=1)\n",
    "fulllst = scaled_df.lst.values.reshape(-1, 1).ravel()\n",
    "\n",
    "fulllst_pred = tuned_forest.predict(fullsar)\n",
    "\n",
    "fullrmse = (np.sqrt(mean_squared_error(fulllst_pred, fulllst)))\n",
    "print(fullrmse)"
   ]
  },
  {
   "cell_type": "code",
   "execution_count": null,
   "id": "348fbb90-6362-4e5e-b4b2-db804175a94c",
   "metadata": {
    "scrolled": true,
    "slideshow": {
     "slide_type": "skip"
    }
   },
   "outputs": [],
   "source": [
    "nfulldata_df = fulldata_df.copy()\n",
    "nfulldata_df['lst_pred'] = fulllst_pred\n",
    "nfulldata_df"
   ]
  },
  {
   "cell_type": "code",
   "execution_count": null,
   "id": "6ff40720",
   "metadata": {
    "slideshow": {
     "slide_type": "skip"
    }
   },
   "outputs": [],
   "source": [
    "fulllstpred_arr = fulllst_pred.reshape(-1, 4335)"
   ]
  },
  {
   "cell_type": "code",
   "execution_count": null,
   "id": "b92c7034-a8bb-4704-888c-ca46de279887",
   "metadata": {
    "scrolled": true,
    "slideshow": {
     "slide_type": "slide"
    }
   },
   "outputs": [],
   "source": [
    "figure(figsize=(14, 12), dpi=300)\n",
    "#img2 = plt.imshow(fulllstpred_arr, cmap=cmap, norm=norm)\n",
    "plt.imshow(fulllstpred_arr, cmap='RdBu_r')\n",
    "# plt.title('Downscaled LST map (30 m)')\n",
    "clb = plt.colorbar(orientation='horizontal')\n",
    "clb.ax.set_title('\\N{DEGREE SIGN}C', fontsize=12)\n",
    "plt.savefig('downscale_outputs/DownscaledLST_30m.png', dpi=300, bbox_inches='tight')\n",
    "plt.show()"
   ]
  },
  {
   "cell_type": "code",
   "execution_count": null,
   "id": "5b01808f-4bf1-4b93-b93e-eb5032f43a53",
   "metadata": {
    "scrolled": true,
    "slideshow": {
     "slide_type": "slide"
    }
   },
   "outputs": [],
   "source": [
    "from matplotlib import colors\n",
    "\n",
    "cmap = colors.ListedColormap(['darkblue', 'blue', 'lightblue', 'tomato', 'red', 'darkred'])\n",
    "bounds = [0, 10, 12, 15, 20, 30, 35]\n",
    "norm = colors.BoundaryNorm(bounds, cmap.N)\n",
    "\n",
    "figure(figsize=(14, 12), dpi=300)\n",
    "\n",
    "plt.subplot(1, 2, 1)\n",
    "img2 = plt.imshow(fulllstpred_arr, cmap=cmap, norm=norm)\n",
    "plt.colorbar(img2, cmap=cmap, norm=norm, boundaries=bounds, ticks=bounds, orientation='horizontal')\n",
    "\n",
    "plt.subplot(1, 2, 2)\n",
    "img = plt.imshow(lst_full_farr, cmap=cmap, norm=norm)\n",
    "plt.colorbar(img, cmap=cmap, norm=norm, boundaries=bounds, ticks=bounds, orientation='horizontal')\n",
    "\n",
    "plt.show()"
   ]
  },
  {
   "cell_type": "code",
   "execution_count": null,
   "id": "1f4e6cba-fd1e-4513-b20c-824b2ea9fd81",
   "metadata": {
    "scrolled": true,
    "slideshow": {
     "slide_type": "skip"
    }
   },
   "outputs": [],
   "source": [
    "# histogram\n",
    "\n",
    "nfulldata_df.lst.hist(bins=200, legend=True)\n",
    "nfulldata_df.lst_pred.hist(bins=200, legend=True)"
   ]
  },
  {
   "cell_type": "code",
   "execution_count": null,
   "id": "1c011dcf-c9fc-4269-9fbf-44d97537b287",
   "metadata": {
    "scrolled": true,
    "slideshow": {
     "slide_type": "slide"
    }
   },
   "outputs": [],
   "source": [
    "# error for each pixel\n",
    "\n",
    "error_full_arr = np.sqrt(np.square(fulllstpred_arr - lst_full_farr))\n",
    "\n",
    "figure(figsize=(14, 12), dpi=300)\n",
    "#plt.title('Error at each pixel')\n",
    "plt.imshow(error_full_arr, cmap='RdYlGn_r')\n",
    "clb = plt.colorbar(orientation='horizontal')\n",
    "clb.ax.set_title('\\N{DEGREE SIGN}C', fontsize=12)\n",
    "plt.savefig('downscale_outputs/erropixel_30m.png', dpi=300, bbox_inches='tight')\n",
    "plt.show()"
   ]
  },
  {
   "cell_type": "code",
   "execution_count": null,
   "id": "236b8c29-8fa6-4ff4-936c-ffc1fa678d1b",
   "metadata": {
    "scrolled": true,
    "slideshow": {
     "slide_type": "slide"
    }
   },
   "outputs": [],
   "source": [
    "print('The correlation between Observed LST and Downscaled LST at 30m is:', nfulldata_df['lst'].corr(nfulldata_df['lst_pred']))\n",
    "plt_4 = sns.regplot(data=nfulldata_df, x='lst', y='lst_pred', scatter_kws={\"color\": \"black\"}, line_kws={\"color\": \"red\"}, ci=None)\n",
    "plt_4.axes.set_title('Regression Plot between Observed LST and Downscaled LST', fontsize=20)\n",
    "plt_4.set_xlabel('Observed LST', fontsize=15)\n",
    "plt_4.set_ylabel('Downscaled LST', fontsize=15)"
   ]
  }
 ],
 "metadata": {
  "celltoolbar": "Slideshow",
  "kernelspec": {
   "display_name": "Python",
   "language": "python",
   "name": "python3"
  },
  "language_info": {
   "codemirror_mode": {
    "name": "ipython",
    "version": 3
   },
   "file_extension": ".py",
   "mimetype": "text/x-python",
   "name": "python",
   "nbconvert_exporter": "python",
   "pygments_lexer": "ipython3",
   "version": "3.8.10"
  }
 },
 "nbformat": 4,
 "nbformat_minor": 5
}
