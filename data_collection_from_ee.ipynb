{
 "cells": [
  {
   "cell_type": "code",
   "execution_count": null,
   "id": "effda68b-691d-4301-beda-4a85151756d0",
   "metadata": {},
   "outputs": [],
   "source": [
    "import ee"
   ]
  },
  {
   "cell_type": "code",
   "execution_count": null,
   "id": "aede1dbc-de30-4956-bc39-53169734f1c4",
   "metadata": {},
   "outputs": [],
   "source": [
    "# ee.Authenticate()\n",
    "ee.Initialize()"
   ]
  },
  {
   "cell_type": "code",
   "execution_count": null,
   "id": "20a3b4c7-eaea-4ce3-8d26-eaf2d21045de",
   "metadata": {},
   "outputs": [],
   "source": [
    "# load study area\n",
    "\n",
    "fc = ee.FeatureCollection(\"FAO/GAUL_SIMPLIFIED_500m/2015/level1\")\n",
    "roi = fc.filter(ee.Filter.eq('ADM1_NAME', 'Zuid-holland'))"
   ]
  },
  {
   "cell_type": "markdown",
   "id": "0b39629b-7688-44b9-a7eb-af48055fe5ae",
   "metadata": {},
   "source": [
    "## get sentinel-1 sar data"
   ]
  },
  {
   "cell_type": "code",
   "execution_count": null,
   "id": "4a7e46d3-5943-46eb-85a7-b2020ef4fc44",
   "metadata": {},
   "outputs": [],
   "source": [
    "sentinel_1 = ee.ImageCollection('COPERNICUS/S1_GRD')\n",
    "asc = sentinel_1.filter(ee.Filter.eq('orbitProperties_pass', 'ASCENDING')).filter(ee.Filter.eq('instrumentMode', 'IW'))\n",
    "platform = asc.filter(ee.Filter.eq('platform_number', 'A'))\n",
    "coll_param = platform.filter(ee.Filter.listContains('transmitterReceiverPolarisation', 'VV')).filter(ee.Filter.listContains('transmitterReceiverPolarisation', 'VH')).select(['VV', 'VH'])\n",
    "\n",
    "sentinel_roi = coll_param.filterBounds(roi.geometry())\n",
    "\n",
    "bcoff2 = sentinel_roi.filterDate('2020-03-25', '2021-01-01').first()\n",
    "\n",
    "task_config_s1 = {\n",
    "    'maxPixels': 1e13,\n",
    "    'scale': 10,\n",
    "    'crs': 'EPSG:4326',\n",
    "    'region': roi.geometry()\n",
    "    }\n",
    "\n",
    "sarfull_task = ee.batch.Export.image(bcoff2, 'sarval_2503_vv_vh', task_config_s1)\n",
    "\n",
    "sarfull_task.start()\n",
    "\n",
    "print('check your gdrive in some time!')"
   ]
  },
  {
   "cell_type": "markdown",
   "id": "52e6d036-7644-401f-b5eb-a62bc47c48a9",
   "metadata": {},
   "source": [
    "## get landsat-8 lst data"
   ]
  },
  {
   "cell_type": "code",
   "execution_count": null,
   "id": "2147fb81-4139-4a41-827a-21720b8fb0d2",
   "metadata": {},
   "outputs": [],
   "source": [
    "# collect 100 m lst product\n",
    "\n",
    "landsat = ee.ImageCollection(\"LANDSAT/LC08/C02/T1_L2\")\n",
    "\n",
    "tile = landsat.filter(ee.Filter.eq('WRS_PATH', '198')).filter(ee.Filter.eq('WRS_ROW', '24'))\n",
    "landsat_roi = landsat.filterBounds(roi.geometry())\n",
    "landsatST = landsat_roi.select('ST_B10')\n",
    "\n",
    "landST = landsatST.filterDate('2020-03-25', '2020-09-18').first()\n",
    "\n",
    "landsat_100m = landST.resample('bilinear').reproject(crs='EPSG:4326', scale=100)\n",
    "\n",
    "task_config_l8 = {\n",
    "    'maxPixels': 1e13,\n",
    "    'scale': 100,\n",
    "    'crs': 'EPSG:4326',\n",
    "    'region': roi.geometry()\n",
    "    }\n",
    "\n",
    "landsat_task = ee.batch.Export.image(landsat_100m, 'landsatval_2503_100', task_config_l8)\n",
    "\n",
    "landsat_task.start()\n",
    "\n",
    "print('check your gdrive in some time!')"
   ]
  },
  {
   "cell_type": "markdown",
   "id": "a2825315-c764-4f9d-92b8-c57ab7f0c010",
   "metadata": {},
   "source": [
    "## get ESAworldcover v100 data"
   ]
  },
  {
   "cell_type": "code",
   "execution_count": null,
   "id": "77267666-d342-4468-9be7-be21dbc63e65",
   "metadata": {},
   "outputs": [],
   "source": [
    "# load landcover product\n",
    "\n",
    "data = ee.ImageCollection(\"ESA/WorldCover/v100\")\n",
    "lulc_roi = data.filterBounds(roi.geometry()).first()\n",
    "lulc = lulc_roi.select('Map')\n",
    "\n",
    "task_config_lulc = {\n",
    "    'maxPixels': 1e13,\n",
    "    'scale': 10,\n",
    "    'crs': 'EPSG:4326',\n",
    "    'region': roi.geometry()\n",
    "    }\n",
    "\n",
    "lulc_task = ee.batch.Export.image(lulc, 'esa_lulc_10', task_config_lulc)\n",
    "\n",
    "lulc_task.start()\n",
    "\n",
    "print('check your gdrive in some time!')"
   ]
  },
  {
   "cell_type": "markdown",
   "id": "154c6bc0-b00b-47bc-928f-2d9be490f546",
   "metadata": {},
   "source": [
    "## get Sentinel-2 MSI data"
   ]
  },
  {
   "cell_type": "code",
   "execution_count": null,
   "id": "00e4a694-6803-441b-924e-b3816a51c22a",
   "metadata": {},
   "outputs": [],
   "source": [
    "s2_data = ee.ImageCollection('COPERNICUS/S2_SR')\n",
    "\n",
    "s2_roi = s2_data.filterBounds(roi.geometry())\n",
    "\n",
    "s2_img_coll = s2_roi.filterDate('2020-03-26', '2020-03-27').select(['B2', 'B3', 'B4', 'B8', 'B11', 'B12'])\n",
    "\n",
    "s2_img_coll_mos = s2_img_coll.mosaic()\n",
    "\n",
    "task_config_s2 = {\n",
    "    'maxPixels': 1e13,\n",
    "    'scale': 10,\n",
    "    'crs': 'EPSG:4326',\n",
    "    'region': roi.geometry()\n",
    "    }\n",
    "\n",
    "s2_task = ee.batch.Export.image(s2_img_coll_mos, 's2_2603_10', task_config_s2)\n",
    "\n",
    "s2_task.start()\n",
    "\n",
    "print('check your gdrive in some time!')"
   ]
  },
  {
   "cell_type": "code",
   "execution_count": null,
   "id": "9825981b-659d-449a-9056-49187cf14e12",
   "metadata": {},
   "outputs": [],
   "source": []
  }
 ],
 "metadata": {
  "kernelspec": {
   "display_name": "Python",
   "language": "python",
   "name": "python3"
  },
  "language_info": {
   "codemirror_mode": {
    "name": "ipython",
    "version": 3
   },
   "file_extension": ".py",
   "mimetype": "text/x-python",
   "name": "python",
   "nbconvert_exporter": "python",
   "pygments_lexer": "ipython3",
   "version": "3.8.10"
  }
 },
 "nbformat": 4,
 "nbformat_minor": 5
}
